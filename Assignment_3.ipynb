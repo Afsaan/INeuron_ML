{
  "nbformat": 4,
  "nbformat_minor": 0,
  "metadata": {
    "colab": {
      "name": "Assignment 3.ipynb",
      "provenance": []
    },
    "kernelspec": {
      "name": "python3",
      "display_name": "Python 3"
    }
  },
  "cells": [
    {
      "cell_type": "markdown",
      "metadata": {
        "id": "PDUTPYIg0KQo",
        "colab_type": "text"
      },
      "source": [
        "## **TASK 1**"
      ]
    },
    {
      "cell_type": "markdown",
      "metadata": {
        "id": "Wg1ifldox-6Z",
        "colab_type": "text"
      },
      "source": [
        "#####**Q1) Write a function to compute 5/0 and use try/except to catch the exceptions.**"
      ]
    },
    {
      "cell_type": "code",
      "metadata": {
        "id": "tpDvfSg_x3eb",
        "colab_type": "code",
        "colab": {
          "base_uri": "https://localhost:8080/",
          "height": 34
        },
        "outputId": "e280b3cb-b860-4130-edca-a7eaa30826da"
      },
      "source": [
        "def divide_by_zero():\n",
        "  try:\n",
        "    a = 5/0\n",
        "  except ZeroDivisionError as e:\n",
        "    print(e ,\"error\")\n",
        "\n",
        "divide_by_zero()"
      ],
      "execution_count": 3,
      "outputs": [
        {
          "output_type": "stream",
          "text": [
            "division by zero error\n"
          ],
          "name": "stdout"
        }
      ]
    },
    {
      "cell_type": "markdown",
      "metadata": {
        "id": "GOLQJGXTzIiI",
        "colab_type": "text"
      },
      "source": [
        "##### **Q2) Implement a Python program to generate all sentences where subject is in [\"Americans\",\"Indians\"] and verb is in [\"Play\", \"watch\"] and the object is in [\"Baseball\",\"cricket\"].**"
      ]
    },
    {
      "cell_type": "code",
      "metadata": {
        "id": "4bVOl23IyzHL",
        "colab_type": "code",
        "colab": {
          "base_uri": "https://localhost:8080/",
          "height": 153
        },
        "outputId": "9245c2c2-1aad-45f7-bcf7-a65aaec60b1e"
      },
      "source": [
        "subjects = [\"Americans\" , \"Indians\"]\n",
        "verbs = [\"play\" , \"watch\"]\n",
        "objects = [\"Basketball\" , \"Cricket\"]\n",
        "\n",
        "for i in range(len(subjects)):\n",
        "  for j in range(len(verbs)):\n",
        "    for k in range(len(objects)):\n",
        "      print(subjects[i] , verbs[j] , objects[k])\n"
      ],
      "execution_count": 5,
      "outputs": [
        {
          "output_type": "stream",
          "text": [
            "Americans play Basketball\n",
            "Americans play Cricket\n",
            "Americans watch Basketball\n",
            "Americans watch Cricket\n",
            "Indians play Basketball\n",
            "Indians play Cricket\n",
            "Indians watch Basketball\n",
            "Indians watch Cricket\n"
          ],
          "name": "stdout"
        }
      ]
    },
    {
      "cell_type": "markdown",
      "metadata": {
        "id": "donsTC-x0lzt",
        "colab_type": "text"
      },
      "source": [
        "## **TASK 2**"
      ]
    },
    {
      "cell_type": "markdown",
      "metadata": {
        "id": "3tOGhbZ6017Z",
        "colab_type": "text"
      },
      "source": [
        "##### **Write a function so that the columns of the output matrix are powers of the input vector.**\n",
        "##### **The order of the powers is determined by the increasing boolean argument. Specifically, when increasing is False, the i-th output column is the input vector raised element-wise to the power of N - i - 1.**"
      ]
    },
    {
      "cell_type": "code",
      "metadata": {
        "id": "0hmHET5uy0PV",
        "colab_type": "code",
        "colab": {
          "base_uri": "https://localhost:8080/",
          "height": 85
        },
        "outputId": "18d63d8e-3c1f-4fe7-bf1c-9e19f8250a25"
      },
      "source": [
        "import numpy as np\n",
        "list = [1,2,3,5]\n",
        "n = 4\n",
        "p=0\n",
        "array = np.array([ [ list[i]**(n-(j+1))  for j in range(0,n) if j<4] for i in range(len(list)) ])\n",
        "print(array)"
      ],
      "execution_count": 4,
      "outputs": [
        {
          "output_type": "stream",
          "text": [
            "[[  1   1   1   1]\n",
            " [  8   4   2   1]\n",
            " [ 27   9   3   1]\n",
            " [125  25   5   1]]\n"
          ],
          "name": "stdout"
        }
      ]
    }
  ]
}